{
 "cells": [
  {
   "cell_type": "code",
   "execution_count": 11,
   "metadata": {},
   "outputs": [],
   "source": [
    "from datetime import datetime\n",
    "import fontforge\n",
    "import hashlib\n",
    "langs = (\n",
    "    # \"ing\",\n",
    "    # \"hindi\",\n",
    "    \"bangla\",\"guzrati\",\"gurmukhi\",\"oriya\",\n",
    "    \"korean\",\n",
    "    \"telugu\",\"tamil\",\"kannada\",\"malayalam\",\"sinhala\",\n",
    "    # \"binaryw\"\n",
    ")\n",
    "def create_uuid_from_string(val: str):\n",
    "    hex_string = hashlib.md5(val.encode(\"UTF-8\")).hexdigest()\n",
    "    return int(hex_string, 16) % 10**16"
   ]
  },
  {
   "cell_type": "code",
   "execution_count": 12,
   "metadata": {},
   "outputs": [],
   "source": [
    "\n",
    "for l in langs:\n",
    "    hindi15bf = fontforge.open(f\"/home/viml/mg/zw8/pff/sfd/b/source15b/hindi15b.sfd\")\n",
    "    tudedate = datetime.today().strftime('%Y-%m-%d')\n",
    "    thisfontname = f\"{l}15b\"\n",
    "    unikname = f\"{thisfontname} hscii5 5phinger mAThs {tudedate}\"\n",
    "    sfdname = f\"{thisfontname}.sfd\"\n",
    "    ########\n",
    "    # hindi15bf.save(f\"/home/viml/mg/zw8/pff/sfd/b/source15b/{sfdname}\")\n",
    "    ########\n",
    "    hindi15bf.familyname = f\"{thisfontname}\"\n",
    "    hindi15bf.fullname = f\"{thisfontname}\"\n",
    "    hindi15bf.fontname = f\"{thisfontname}\"    \n",
    "    hindi15bf.uniqueid = create_uuid_from_string(f\"{thisfontname} {unikname}\")\n",
    "    ##############\n",
    "    hindi15bf.appendSFNTName('English (US)', 'UniqueID', f\"FontForge 2.0 : {thisfontname} : 30-3-2025\")\n",
    "    hindi15bf.appendSFNTName('English (US)', 'Fullname', f\"{thisfontname}\")\n",
    "    hindi15bf.appendSFNTName('English (US)', 'UniqueID', f\"{unikname} 0.000;zawa;hscii5 {thisfontname}-regular\")\n",
    "    hindi15bf.appendSFNTName('English (US)', 'PostScriptName', f\"{thisfontname}\")\n",
    "    hindi15bf.appendSFNTName('English (US)', 'Family', f\"{thisfontname}\")\n",
    "    ##############\n",
    "    hindi15bf.save(f\"/home/viml/mg/zw8/pff/sfd/b/source15b/{sfdname}\")\n",
    "    hindi15bf.close()"
   ]
  }
 ],
 "metadata": {
  "kernelspec": {
   "display_name": "Python 3",
   "language": "python",
   "name": "python3"
  },
  "language_info": {
   "codemirror_mode": {
    "name": "ipython",
    "version": 3
   },
   "file_extension": ".py",
   "mimetype": "text/x-python",
   "name": "python",
   "nbconvert_exporter": "python",
   "pygments_lexer": "ipython3",
   "version": "3.10.12"
  }
 },
 "nbformat": 4,
 "nbformat_minor": 2
}
