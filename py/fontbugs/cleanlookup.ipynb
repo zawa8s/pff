{
 "cells": [
  {
   "cell_type": "code",
   "execution_count": 1,
   "metadata": {},
   "outputs": [],
   "source": [
    "import fontforge"
   ]
  },
  {
   "cell_type": "code",
   "execution_count": 10,
   "metadata": {},
   "outputs": [
    {
     "name": "stderr",
     "output_type": "stream",
     "text": [
      "Internal Error: Lookup sub table, 'mark' Mark Positioning lookup 35 subtable in 'mark' Mark Positioning lookup 35, contains no data.\n"
     ]
    },
    {
     "data": {
      "text/plain": [
       "<fontforge.font at 0x0x7f179572efb0 \"ing115\">"
      ]
     },
     "execution_count": 10,
     "metadata": {},
     "output_type": "execute_result"
    }
   ],
   "source": [
    "ing115 = fontforge.open(f\"/home/viml/mg/font/sfdsource/source115/ing115.sfd\")\n",
    "# for g in ing115.glyphs():\n",
    "#     # print(g)\n",
    "#     g.removePosSub(\"*\")\n",
    "ing115.generate(f\"/home/viml/mg/font/sfdsource/source115/ing115.ttf\")\n",
    "ing115.close()"
   ]
  }
 ],
 "metadata": {
  "kernelspec": {
   "display_name": "Python 3",
   "language": "python",
   "name": "python3"
  },
  "language_info": {
   "codemirror_mode": {
    "name": "ipython",
    "version": 3
   },
   "file_extension": ".py",
   "mimetype": "text/x-python",
   "name": "python",
   "nbconvert_exporter": "python",
   "pygments_lexer": "ipython3",
   "version": "3.10.12"
  }
 },
 "nbformat": 4,
 "nbformat_minor": 2
}
