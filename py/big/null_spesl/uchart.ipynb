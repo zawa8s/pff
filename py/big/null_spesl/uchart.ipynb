{
 "cells": [
  {
   "cell_type": "code",
   "execution_count": 6,
   "metadata": {},
   "outputs": [
    {
     "name": "stdout",
     "output_type": "stream",
     "text": [
      "(2367, 2384, 2385, 2386, 2387, 2388, 2432, 2495, 2503, 2504, 2507, 2508, 2546, 2547, 2548, 2549, 2550, 2551, 2552, 2553, 2554, 2555, 2623, 2641, 2676, 2751, 2768, 2810, 2811, 2812, 2813, 2814, 2815, 2887, 2888, 2891, 2892, 2901, 2930, 2931, 2932, 2933, 2934, 2935, 3024, 3031, 3056, 3057, 3058, 3059, 3060, 3061, 3062, 3063, 3064, 3065, 3066, 3191, 3192, 3193, 3194, 3195, 3196, 3197, 3198, 3199, 3204, 3263, 3285, 3286, 3313, 3314, 3387, 3389, 3398, 3399, 3400, 3402, 3403, 3404, 3415, 3416, 3417, 3418, 3419, 3420, 3421, 3422, 3423, 3440, 3441, 3442, 3449)\n",
      "(2382, 2417, 2436, 2445, 2446, 2449, 2450, 2473, 2481, 2483, 2484, 2485, 2490, 2491, 2501, 2502, 2505, 2506, 2511, 2512, 2513, 2514, 2515, 2516, 2517, 2518, 2520, 2521, 2522, 2523, 2526, 2559, 2560, 2564, 2571, 2572, 2573, 2574, 2577, 2578, 2601, 2609, 2612, 2615, 2618, 2619, 2621, 2627, 2628, 2629, 2630, 2633, 2634, 2638, 2639, 2640, 2642, 2643, 2644, 2645, 2646, 2647, 2648, 2653, 2655, 2656, 2657, 2658, 2659, 2679, 2680, 2681, 2682, 2683, 2684, 2685, 2686, 2687, 2688, 2692, 2702, 2746, 2747, 2758, 2762, 2766, 2767, 2769, 2770, 2771, 2772, 2773, 2774, 2775, 2776, 2777, 2778, 2779, 2780, 2781, 2782, 2783, 2802, 2803, 2804, 2805, 2806, 2807, 2808, 2816, 2820, 2829, 2830, 2833, 2834, 2857, 2865, 2868, 2874, 2875, 2885, 2886, 2889, 2890, 2894, 2895, 2896, 2897, 2898, 2899, 2900, 2904, 2905, 2906, 2907, 2910, 2936, 2937, 2938, 2939, 2940, 2941, 2942, 2943, 2944, 2945, 2948, 2955, 2956, 2957, 2961, 2966, 2967, 2968, 2971, 2973, 2976, 2977, 2978, 2981, 2982, 2983, 2987, 2988, 2989, 3002, 3003, 3004, 3005, 3011, 3012, 3013, 3017, 3022, 3023, 3025, 3026, 3027, 3028, 3029, 3030, 3033, 3039, 3040, 3041, 3042, 3043, 3057, 3067, 3068, 3069, 3070, 2943, 3085, 3089, 3113, 3130, 3131, 3141, 3145, 3150, 3151, 3152, 3153, 3154, 3155, 3156, 3159, 3163, 3164, 3166, 3167, 3190, 3213, 3217, 3241, 3252, 3258, 3259, 3269, 3273, 3278, 3279, 3280, 3281, 3282, 3283, 3284, 3287, 3288, 3289, 3290, 3291, 3292, 3295, 3318, 3319, 3320, 3321, 3322, 3323, 3324, 3325, 3326, 3327, 3341, 3345, 3397, 3401, 3408, 3409, 3410, 3411, 3456, 3460, 3479, 3480, 3481, 3506, 3516, 3518, 3519, 3527, 3528, 3529, 3531, 3532, 3533, 3534, 3541, 3543, 3552, 3553, 3554, 3555, 3556, 3557, 3568, 3569, 3573, 3574, 3575, 3576, 3577, 3578, 3579, 3580, 3581, 3582, 3583)\n"
     ]
    }
   ],
   "source": [
    "import fontforge\n",
    "from uchart import speslindik\n",
    "from null import nultpl\n",
    "print(speslindik)\n",
    "print(nultpl)"
   ]
  },
  {
   "cell_type": "code",
   "execution_count": 7,
   "metadata": {},
   "outputs": [
    {
     "name": "stderr",
     "output_type": "stream",
     "text": [
      "At least one anchor point was lost when pasting from one font to another because no matching anchor class could be found in the new font.\n",
      "At least one anchor point was lost when pasting from one font to another because no matching anchor class could be found in the new font.\n",
      "At least one anchor point was lost when pasting from one font to another because no matching anchor class could be found in the new font.\n",
      "At least one anchor point was lost when pasting from one font to another because no matching anchor class could be found in the new font.\n",
      "At least one anchor point was lost when pasting from one font to another because no matching anchor class could be found in the new font.\n",
      "At least one anchor point was lost when pasting from one font to another because no matching anchor class could be found in the new font.\n",
      "At least one anchor point was lost when pasting from one font to another because no matching anchor class could be found in the new font.\n",
      "At least one anchor point was lost when pasting from one font to another because no matching anchor class could be found in the new font.\n",
      "At least one anchor point was lost when pasting from one font to another because no matching anchor class could be found in the new font.\n",
      "At least one anchor point was lost when pasting from one font to another because no matching anchor class could be found in the new font.\n",
      "At least one anchor point was lost when pasting from one font to another because no matching anchor class could be found in the new font.\n",
      "At least one anchor point was lost when pasting from one font to another because no matching anchor class could be found in the new font.\n",
      "At least one anchor point was lost when pasting from one font to another because no matching anchor class could be found in the new font.\n",
      "At least one anchor point was lost when pasting from one font to another because no matching anchor class could be found in the new font.\n",
      "At least one anchor point was lost when pasting from one font to another because no matching anchor class could be found in the new font.\n",
      "At least one anchor point was lost when pasting from one font to another because no matching anchor class could be found in the new font.\n",
      "At least one anchor point was lost when pasting from one font to another because no matching anchor class could be found in the new font.\n",
      "At least one anchor point was lost when pasting from one font to another because no matching anchor class could be found in the new font.\n",
      "At least one anchor point was lost when pasting from one font to another because no matching anchor class could be found in the new font.\n",
      "At least one anchor point was lost when pasting from one font to another because no matching anchor class could be found in the new font.\n",
      "At least one anchor point was lost when pasting from one font to another because no matching anchor class could be found in the new font.\n",
      "At least one anchor point was lost when pasting from one font to another because no matching anchor class could be found in the new font.\n",
      "At least one anchor point was lost when pasting from one font to another because no matching anchor class could be found in the new font.\n",
      "At least one anchor point was lost when pasting from one font to another because no matching anchor class could be found in the new font.\n",
      "At least one anchor point was lost when pasting from one font to another because no matching anchor class could be found in the new font.\n",
      "At least one anchor point was lost when pasting from one font to another because no matching anchor class could be found in the new font.\n",
      "At least one anchor point was lost when pasting from one font to another because no matching anchor class could be found in the new font.\n",
      "At least one anchor point was lost when pasting from one font to another because no matching anchor class could be found in the new font.\n",
      "At least one anchor point was lost when pasting from one font to another because no matching anchor class could be found in the new font.\n",
      "At least one anchor point was lost when pasting from one font to another because no matching anchor class could be found in the new font.\n",
      "At least one anchor point was lost when pasting from one font to another because no matching anchor class could be found in the new font.\n",
      "At least one anchor point was lost when pasting from one font to another because no matching anchor class could be found in the new font.\n",
      "At least one anchor point was lost when pasting from one font to another because no matching anchor class could be found in the new font.\n",
      "At least one anchor point was lost when pasting from one font to another because no matching anchor class could be found in the new font.\n",
      "At least one anchor point was lost when pasting from one font to another because no matching anchor class could be found in the new font.\n",
      "At least one anchor point was lost when pasting from one font to another because no matching anchor class could be found in the new font.\n",
      "At least one anchor point was lost when pasting from one font to another because no matching anchor class could be found in the new font.\n",
      "At least one anchor point was lost when pasting from one font to another because no matching anchor class could be found in the new font.\n",
      "At least one anchor point was lost when pasting from one font to another because no matching anchor class could be found in the new font.\n",
      "At least one anchor point was lost when pasting from one font to another because no matching anchor class could be found in the new font.\n",
      "At least one anchor point was lost when pasting from one font to another because no matching anchor class could be found in the new font.\n",
      "At least one anchor point was lost when pasting from one font to another because no matching anchor class could be found in the new font.\n",
      "At least one anchor point was lost when pasting from one font to another because no matching anchor class could be found in the new font.\n",
      "At least one anchor point was lost when pasting from one font to another because no matching anchor class could be found in the new font.\n",
      "At least one anchor point was lost when pasting from one font to another because no matching anchor class could be found in the new font.\n",
      "At least one anchor point was lost when pasting from one font to another because no matching anchor class could be found in the new font.\n",
      "At least one anchor point was lost when pasting from one font to another because no matching anchor class could be found in the new font.\n",
      "At least one anchor point was lost when pasting from one font to another because no matching anchor class could be found in the new font.\n",
      "At least one anchor point was lost when pasting from one font to another because no matching anchor class could be found in the new font.\n",
      "At least one anchor point was lost when pasting from one font to another because no matching anchor class could be found in the new font.\n",
      "At least one anchor point was lost when pasting from one font to another because no matching anchor class could be found in the new font.\n",
      "At least one anchor point was lost when pasting from one font to another because no matching anchor class could be found in the new font.\n",
      "At least one anchor point was lost when pasting from one font to another because no matching anchor class could be found in the new font.\n",
      "At least one anchor point was lost when pasting from one font to another because no matching anchor class could be found in the new font.\n",
      "At least one anchor point was lost when pasting from one font to another because no matching anchor class could be found in the new font.\n",
      "At least one anchor point was lost when pasting from one font to another because no matching anchor class could be found in the new font.\n",
      "At least one anchor point was lost when pasting from one font to another because no matching anchor class could be found in the new font.\n",
      "At least one anchor point was lost when pasting from one font to another because no matching anchor class could be found in the new font.\n",
      "At least one anchor point was lost when pasting from one font to another because no matching anchor class could be found in the new font.\n",
      "At least one anchor point was lost when pasting from one font to another because no matching anchor class could be found in the new font.\n",
      "At least one anchor point was lost when pasting from one font to another because no matching anchor class could be found in the new font.\n",
      "At least one anchor point was lost when pasting from one font to another because no matching anchor class could be found in the new font.\n"
     ]
    }
   ],
   "source": [
    "scripts = (\n",
    "    # \"ing\",\n",
    "    \"hindi\",\n",
    "    \"bangla\",\"guzrati\",\"gurmukhi\",\"oriya\",\n",
    "    \"korean\",\n",
    "    \"telugu\",\"tamil\",\"kannada\",\"malayalam\",\"sinhala\"\n",
    "    # ,\"eng\",\"binaryv\",\"binaryh\",\"hex\",\n",
    "    # \"notosans\"\n",
    ")\n",
    "ing115 = fontforge.open(f\"/home/viml/mg/font/sfdsource/source115/ing115.sfd\")\n",
    "for x in scripts:\n",
    "    x115 = fontforge.open(f\"/home/viml/mg/font/sfdsource/source115/{x}115.sfd\")\n",
    "    for k in speslindik:\n",
    "        ing115.selection.select(k)\n",
    "        ing115.copy()        \n",
    "        x115.selection.select(k)\n",
    "        x115.clear()\n",
    "        x115.paste()\n",
    "    x115.save()\n",
    "    x115.close()\n",
    "ing115.close()"
   ]
  }
 ],
 "metadata": {
  "kernelspec": {
   "display_name": "Python 3",
   "language": "python",
   "name": "python3"
  },
  "language_info": {
   "codemirror_mode": {
    "name": "ipython",
    "version": 3
   },
   "file_extension": ".py",
   "mimetype": "text/x-python",
   "name": "python",
   "nbconvert_exporter": "python",
   "pygments_lexer": "ipython3",
   "version": "3.10.12"
  }
 },
 "nbformat": 4,
 "nbformat_minor": 2
}
