{
 "cells": [
  {
   "cell_type": "code",
   "execution_count": 1,
   "metadata": {},
   "outputs": [],
   "source": [
    "import fontforge\n",
    "import hashlib"
   ]
  },
  {
   "cell_type": "code",
   "execution_count": 3,
   "metadata": {},
   "outputs": [],
   "source": [
    "\n",
    "langs = (\n",
    "    \"ing\",\n",
    "    # \"hindi\",\n",
    "    # \"bangla\",\"guzrati\",\"gurmukhi\",\"oriya\",\n",
    "    # \"korean\",\n",
    "    # \"telugu\",\"tamil\",\"kannada\",\"malayalam\",\"sinhala\",\n",
    "    # \"binaryw\"\n",
    ")"
   ]
  },
  {
   "cell_type": "code",
   "execution_count": 4,
   "metadata": {},
   "outputs": [],
   "source": [
    "def create_uuid_from_string(val: str):\n",
    "    hex_string = hashlib.md5(val.encode(\"UTF-8\")).hexdigest()\n",
    "    return int(hex_string, 16) % 10**16"
   ]
  },
  {
   "cell_type": "code",
   "execution_count": null,
   "metadata": {},
   "outputs": [
    {
     "name": "stdout",
     "output_type": "stream",
     "text": [
      "####################\n",
      "language is ing and f path is /home/viml/mg/zw8/pff/sfd/s/source15ms/ing15ms.sfd\n",
      "####################\n",
      "####################\n",
      "language is ing and f family name is ing15ms\n",
      "language is ing and f fullname is ing15ms\n",
      "language is ing and f fontname is ing15ms\n",
      "language is ing and f copyright is github.com/zawa8/font hscii4(4phinger maths) hscii5\n",
      "language is ing and f version is w0.000\n",
      "language is ing and f uniqueid is -2067704420\n",
      "language is ing and f fondname is None\n",
      "language is ing and f os2_vendor is zawa\n",
      "####################\n",
      "language is ing and f f.sfntRevision is 1.0\n",
      "language is ing and f sfnt_names is (('English (US)', 'Copyright', 'github.com/zawa8/font hscii4(4phinger maths) hscii5'), ('English (US)', 'Family', 'ing15ms'), ('English (US)', 'SubFamily', 'Regular'), ('English (US)', 'UniqueID', 'FontForge 2.0 : ing15ms : 30-3-2025'), ('English (US)', 'Fullname', 'ing15ms'), ('English (US)', 'Version', 'Version w0.000 '), ('English (US)', 'PostScriptName', 'ing15ms'), ('English (India)', 'Copyright', 'github.com/zawa8/font hscii4(4phinger maths) hscii5'), ('English (India)', 'Family', 'ing15ms'), ('English (India)', 'SubFamily', 'Regular'), ('English (India)', 'UniqueID', 'ing15ms 0.000;zawa;hscii5 ing15ms-regular'), ('English (India)', 'Fullname', 'ing15ms'), ('English (India)', 'Version', 'wersion 0.0000'), ('English (India)', 'PostScriptName', 'ing15ms'), ('English (India)', 'Trademark', 'hscii5/4 fonts 5/4phingrmaths'), ('English (India)', 'Manufacturer', 'simbAls hscii4 github zawa8'), ('English (India)', 'Designer', 'wimxl kumar merged and changed fonts'), ('English (India)', 'Descriptor', 'merged changed by zawa8 pff(python fontforge)'), ('English (India)', 'Vendor URL', 'https://github.com/zawa8/font'), ('English (India)', 'Designer URL', 'https://github.com/zawa8/pff'), ('English (India)', 'License', 'please ask phur help/kuery at: https://github.com/zawa8/font/'), ('English (India)', 'License URL', 'https://github.com/zawa8/font'))\n",
      "####################\n"
     ]
    }
   ],
   "source": [
    "for l in langs:\n",
    "    tudedate = datetime.today().strftime('%Y-%m-%d')\n",
    "    thisfontname = f\"{l}15b\"\n",
    "    unikname = f\"{thisfontname} hscii5 5phinger mAThs {tudedate}\"\n",
    "    sfdname = f\"{thisfontname}.sfd\"\n",
    "    f = fontforge.open(f\"/home/viml/mg/zw8/pff/sfd/b/source15b/{sfdname}\")\n",
    "    print(\"####################\")\n",
    "    print(f\"language is {l} and f path is {f.path}\")    \n",
    "    print(\"####################\")    \n",
    "    ########\n",
    "    f.familyname = f\"{thisfontname}\"\n",
    "    f.fullname = f\"{thisfontname}\"\n",
    "    f.fontname = f\"{thisfontname}\"    \n",
    "    f.uniqueid = create_uuid_from_string(f\"{thisfontname} {unikname}\")\n",
    "    f.copyright = f\"github.com/zawa8/font hscii4(4phinger maths) hscii5\"\n",
    "    f.version = f\"w0.000\"\n",
    "    f.os2_vendor = \"zawa\"    \n",
    "    # ########\n",
    "    #f.appendSFNTName(language, strid, string)\n",
    "    f.sfntRevision = 1.0000000\n",
    "    ##############\n",
    "    f.appendSFNTName('English (US)', 'UniqueID', f\"FontForge 2.0 : {thisfontname} : 30-3-2025\")\n",
    "    f.appendSFNTName('English (US)', 'Fullname', f\"{thisfontname}\")\n",
    "    f.appendSFNTName('English (US)', 'UniqueID', f\"{unikname} 0.000;zawa;hscii5 {thisfontname}-regular\")\n",
    "    f.appendSFNTName('English (US)', 'PostScriptName', f\"{thisfontname}\")\n",
    "    f.appendSFNTName('English (US)', 'Family', f\"{thisfontname}\")\n",
    "    ##############  \n",
    "    f.appendSFNTName('English (US)', 'Version', 'wersion 0.0000')\n",
    "    f.appendSFNTName('English (US)', 'Copyright', 'github.com/zawa8/font hscii4(4phinger maths) hscii5')\n",
    "    f.appendSFNTName('English (US)', 'SubFamily', 'Regular')\n",
    "    f.appendSFNTName('English (US)', 'Version', 'wersion 0.0000')\n",
    "    f.appendSFNTName('English (US)', 'Trademark', 'hscii5/4 fonts 5/4phingrmaths')\n",
    "    f.appendSFNTName('English (US)', 'Manufacturer', 'simbAls hscii4 github zawa8')\n",
    "    f.appendSFNTName('English (US)', 'Designer', 'wimxl kumar merged and changed fonts')\n",
    "    f.appendSFNTName('English (US)', 'Descriptor', 'merged changed by zawa8 pff(python fontforge)')\n",
    "    f.appendSFNTName('English (US)', 'Vendor URL', 'https://github.com/zawa8/font')\n",
    "    f.appendSFNTName('English (US)', 'Designer URL', 'https://github.com/zawa8/pff')\n",
    "    f.appendSFNTName('English (US)', 'License', 'please ask phur help/kuery at: https://github.com/zawa8/font/')\n",
    "    f.appendSFNTName('English (US)', 'License URL', 'https://github.com/zawa8/font')\n",
    "    # ########\n",
    "    f.save(f\"/home/viml/mg/zw8/pff/sfd/b/source15b/{sfdname}\")\n",
    "    ########\n",
    "    print(\"####################\")\n",
    "    print(f\"language is {l} and f family name is {f.familyname}\")\n",
    "    print(f\"language is {l} and f fullname is {f.fullname}\")\n",
    "    print(f\"language is {l} and f fontname is {f.fontname}\")\n",
    "    print(f\"language is {l} and f copyright is {f.copyright}\")\n",
    "    print(f\"language is {l} and f version is {f.version}\")\n",
    "    print(f\"language is {l} and f uniqueid is {f.uniqueid}\")\n",
    "    print(f\"language is {l} and f fondname is {f.fondname}\")\n",
    "    print(f\"language is {l} and f os2_vendor is {f.os2_vendor}\")\n",
    "    print(\"####################\")\n",
    "    print(f\"language is {l} and f f.sfntRevision is {f.sfntRevision}\") \n",
    "    print(f\"language is {l} and f sfnt_names is {f.sfnt_names}\") \n",
    "    print(\"####################\")\n",
    "    ########\n",
    "    f.close()\n",
    "    ########"
   ]
  }
 ],
 "metadata": {
  "kernelspec": {
   "display_name": "Python 3",
   "language": "python",
   "name": "python3"
  },
  "language_info": {
   "codemirror_mode": {
    "name": "ipython",
    "version": 3
   },
   "file_extension": ".py",
   "mimetype": "text/x-python",
   "name": "python",
   "nbconvert_exporter": "python",
   "pygments_lexer": "ipython3",
   "version": "3.10.12"
  }
 },
 "nbformat": 4,
 "nbformat_minor": 2
}
